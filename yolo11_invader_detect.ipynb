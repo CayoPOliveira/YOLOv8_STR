{
 "cells": [
  {
   "cell_type": "code",
   "execution_count": null,
   "metadata": {
    "colab": {
     "base_uri": "https://localhost:8080/"
    },
    "id": "6fZaUf60l6C5",
    "outputId": "e119fcf7-757a-4676-a4b6-332eff9d2a50"
   },
   "outputs": [
    {
     "name": "stdout",
     "output_type": "stream",
     "text": [
      "Wed Nov 13 03:38:04 2024       \n",
      "+---------------------------------------------------------------------------------------+\n",
      "| NVIDIA-SMI 535.104.05             Driver Version: 535.104.05   CUDA Version: 12.2     |\n",
      "|-----------------------------------------+----------------------+----------------------+\n",
      "| GPU  Name                 Persistence-M | Bus-Id        Disp.A | Volatile Uncorr. ECC |\n",
      "| Fan  Temp   Perf          Pwr:Usage/Cap |         Memory-Usage | GPU-Util  Compute M. |\n",
      "|                                         |                      |               MIG M. |\n",
      "|=========================================+======================+======================|\n",
      "|   0  Tesla T4                       Off | 00000000:00:04.0 Off |                    0 |\n",
      "| N/A   43C    P8               9W /  70W |      0MiB / 15360MiB |      0%      Default |\n",
      "|                                         |                      |                  N/A |\n",
      "+-----------------------------------------+----------------------+----------------------+\n",
      "                                                                                         \n",
      "+---------------------------------------------------------------------------------------+\n",
      "| Processes:                                                                            |\n",
      "|  GPU   GI   CI        PID   Type   Process name                            GPU Memory |\n",
      "|        ID   ID                                                             Usage      |\n",
      "|=======================================================================================|\n",
      "|  No running processes found                                                           |\n",
      "+---------------------------------------------------------------------------------------+\n"
     ]
    }
   ],
   "source": [
    "!nvidia-smi"
   ]
  },
  {
   "cell_type": "code",
   "execution_count": 4,
   "metadata": {
    "colab": {
     "base_uri": "https://localhost:8080/"
    },
    "id": "trDPSynAmZfG",
    "outputId": "3894309d-0dab-4021-eff7-0a3dab735041"
   },
   "outputs": [
    {
     "name": "stdout",
     "output_type": "stream",
     "text": [
      "Collecting ultralytics\n",
      "  Downloading ultralytics-8.3.29-py3-none-any.whl.metadata (35 kB)\n",
      "Requirement already satisfied: numpy>=1.23.0 in /usr/local/lib/python3.10/dist-packages (from ultralytics) (1.26.4)\n",
      "Requirement already satisfied: matplotlib>=3.3.0 in /usr/local/lib/python3.10/dist-packages (from ultralytics) (3.8.0)\n",
      "Requirement already satisfied: opencv-python>=4.6.0 in /usr/local/lib/python3.10/dist-packages (from ultralytics) (4.10.0.84)\n",
      "Requirement already satisfied: pillow>=7.1.2 in /usr/local/lib/python3.10/dist-packages (from ultralytics) (11.0.0)\n",
      "Requirement already satisfied: pyyaml>=5.3.1 in /usr/local/lib/python3.10/dist-packages (from ultralytics) (6.0.2)\n",
      "Requirement already satisfied: requests>=2.23.0 in /usr/local/lib/python3.10/dist-packages (from ultralytics) (2.32.3)\n",
      "Requirement already satisfied: scipy>=1.4.1 in /usr/local/lib/python3.10/dist-packages (from ultralytics) (1.13.1)\n",
      "Requirement already satisfied: torch>=1.8.0 in /usr/local/lib/python3.10/dist-packages (from ultralytics) (2.5.0+cu121)\n",
      "Requirement already satisfied: torchvision>=0.9.0 in /usr/local/lib/python3.10/dist-packages (from ultralytics) (0.20.0+cu121)\n",
      "Requirement already satisfied: tqdm>=4.64.0 in /usr/local/lib/python3.10/dist-packages (from ultralytics) (4.66.6)\n",
      "Requirement already satisfied: psutil in /usr/local/lib/python3.10/dist-packages (from ultralytics) (5.9.5)\n",
      "Requirement already satisfied: py-cpuinfo in /usr/local/lib/python3.10/dist-packages (from ultralytics) (9.0.0)\n",
      "Requirement already satisfied: pandas>=1.1.4 in /usr/local/lib/python3.10/dist-packages (from ultralytics) (2.2.2)\n",
      "Requirement already satisfied: seaborn>=0.11.0 in /usr/local/lib/python3.10/dist-packages (from ultralytics) (0.13.2)\n",
      "Collecting ultralytics-thop>=2.0.0 (from ultralytics)\n",
      "  Downloading ultralytics_thop-2.0.11-py3-none-any.whl.metadata (9.4 kB)\n",
      "Requirement already satisfied: contourpy>=1.0.1 in /usr/local/lib/python3.10/dist-packages (from matplotlib>=3.3.0->ultralytics) (1.3.0)\n",
      "Requirement already satisfied: cycler>=0.10 in /usr/local/lib/python3.10/dist-packages (from matplotlib>=3.3.0->ultralytics) (0.12.1)\n",
      "Requirement already satisfied: fonttools>=4.22.0 in /usr/local/lib/python3.10/dist-packages (from matplotlib>=3.3.0->ultralytics) (4.54.1)\n",
      "Requirement already satisfied: kiwisolver>=1.0.1 in /usr/local/lib/python3.10/dist-packages (from matplotlib>=3.3.0->ultralytics) (1.4.7)\n",
      "Requirement already satisfied: packaging>=20.0 in /usr/local/lib/python3.10/dist-packages (from matplotlib>=3.3.0->ultralytics) (24.2)\n",
      "Requirement already satisfied: pyparsing>=2.3.1 in /usr/local/lib/python3.10/dist-packages (from matplotlib>=3.3.0->ultralytics) (3.2.0)\n",
      "Requirement already satisfied: python-dateutil>=2.7 in /usr/local/lib/python3.10/dist-packages (from matplotlib>=3.3.0->ultralytics) (2.8.2)\n",
      "Requirement already satisfied: pytz>=2020.1 in /usr/local/lib/python3.10/dist-packages (from pandas>=1.1.4->ultralytics) (2024.2)\n",
      "Requirement already satisfied: tzdata>=2022.7 in /usr/local/lib/python3.10/dist-packages (from pandas>=1.1.4->ultralytics) (2024.2)\n",
      "Requirement already satisfied: charset-normalizer<4,>=2 in /usr/local/lib/python3.10/dist-packages (from requests>=2.23.0->ultralytics) (3.4.0)\n",
      "Requirement already satisfied: idna<4,>=2.5 in /usr/local/lib/python3.10/dist-packages (from requests>=2.23.0->ultralytics) (3.10)\n",
      "Requirement already satisfied: urllib3<3,>=1.21.1 in /usr/local/lib/python3.10/dist-packages (from requests>=2.23.0->ultralytics) (2.2.3)\n",
      "Requirement already satisfied: certifi>=2017.4.17 in /usr/local/lib/python3.10/dist-packages (from requests>=2.23.0->ultralytics) (2024.8.30)\n",
      "Requirement already satisfied: filelock in /usr/local/lib/python3.10/dist-packages (from torch>=1.8.0->ultralytics) (3.16.1)\n",
      "Requirement already satisfied: typing-extensions>=4.8.0 in /usr/local/lib/python3.10/dist-packages (from torch>=1.8.0->ultralytics) (4.12.2)\n",
      "Requirement already satisfied: networkx in /usr/local/lib/python3.10/dist-packages (from torch>=1.8.0->ultralytics) (3.4.2)\n",
      "Requirement already satisfied: jinja2 in /usr/local/lib/python3.10/dist-packages (from torch>=1.8.0->ultralytics) (3.1.4)\n",
      "Requirement already satisfied: fsspec in /usr/local/lib/python3.10/dist-packages (from torch>=1.8.0->ultralytics) (2024.10.0)\n",
      "Requirement already satisfied: sympy==1.13.1 in /usr/local/lib/python3.10/dist-packages (from torch>=1.8.0->ultralytics) (1.13.1)\n",
      "Requirement already satisfied: mpmath<1.4,>=1.1.0 in /usr/local/lib/python3.10/dist-packages (from sympy==1.13.1->torch>=1.8.0->ultralytics) (1.3.0)\n",
      "Requirement already satisfied: six>=1.5 in /usr/local/lib/python3.10/dist-packages (from python-dateutil>=2.7->matplotlib>=3.3.0->ultralytics) (1.16.0)\n",
      "Requirement already satisfied: MarkupSafe>=2.0 in /usr/local/lib/python3.10/dist-packages (from jinja2->torch>=1.8.0->ultralytics) (3.0.2)\n",
      "Downloading ultralytics-8.3.29-py3-none-any.whl (883 kB)\n",
      "\u001b[2K   \u001b[90m━━━━━━━━━━━━━━━━━━━━━━━━━━━━━━━━━━━━━━━━\u001b[0m \u001b[32m883.8/883.8 kB\u001b[0m \u001b[31m23.0 MB/s\u001b[0m eta \u001b[36m0:00:00\u001b[0m\n",
      "\u001b[?25hDownloading ultralytics_thop-2.0.11-py3-none-any.whl (26 kB)\n",
      "Installing collected packages: ultralytics-thop, ultralytics\n",
      "Successfully installed ultralytics-8.3.29 ultralytics-thop-2.0.11\n"
     ]
    }
   ],
   "source": [
    "!pip install ultralytics"
   ]
  },
  {
   "cell_type": "markdown",
   "metadata": {
    "id": "O3n7NUfAmn7p"
   },
   "source": [
    "# Install YOLOv8"
   ]
  },
  {
   "cell_type": "code",
   "execution_count": 5,
   "metadata": {
    "colab": {
     "base_uri": "https://localhost:8080/"
    },
    "id": "OgewvCxRmlQH",
    "outputId": "28bf97a0-9717-4f5f-c3cd-a33a7e286fac"
   },
   "outputs": [
    {
     "name": "stdout",
     "output_type": "stream",
     "text": [
      "\u001b[2K\r\u001b[2K\rUltralytics 8.3.29 🚀 Python-3.10.12 torch-2.5.0+cu121 CUDA:0 (Tesla T4, 15102MiB)\n",
      "Setup complete ✅ (2 CPUs, 12.7 GB RAM, 32.1/112.6 GB disk)\n",
      "\n",
      "OS                  Linux-6.1.85+-x86_64-with-glibc2.35\n",
      "Environment         Colab\n",
      "Python              3.10.12\n",
      "Install             pip\n",
      "RAM                 12.67 GB\n",
      "Disk                32.1/112.6 GB\n",
      "CPU                 Intel Xeon 2.00GHz\n",
      "CPU count           2\n",
      "GPU                 Tesla T4, 15102MiB\n",
      "GPU count           1\n",
      "CUDA                12.1\n",
      "\n",
      "numpy               ✅ 1.26.4>=1.23.0\n",
      "matplotlib          ✅ 3.8.0>=3.3.0\n",
      "opencv-python       ✅ 4.10.0.84>=4.6.0\n",
      "pillow              ✅ 11.0.0>=7.1.2\n",
      "pyyaml              ✅ 6.0.2>=5.3.1\n",
      "requests            ✅ 2.32.3>=2.23.0\n",
      "scipy               ✅ 1.13.1>=1.4.1\n",
      "torch               ✅ 2.5.0+cu121>=1.8.0\n",
      "torchvision         ✅ 0.20.0+cu121>=0.9.0\n",
      "tqdm                ✅ 4.66.6>=4.64.0\n",
      "psutil              ✅ 5.9.5\n",
      "py-cpuinfo          ✅ 9.0.0\n",
      "pandas              ✅ 2.2.2>=1.1.4\n",
      "seaborn             ✅ 0.13.2>=0.11.0\n",
      "ultralytics-thop    ✅ 2.0.11>=2.0.0\n",
      "numpy               ✅ 1.26.4<2.0.0; sys_platform == \"darwin\"\n",
      "torch               ✅ 2.5.0+cu121!=2.4.0,>=1.8.0; sys_platform == \"win32\"\n"
     ]
    }
   ],
   "source": [
    "from ultralytics import YOLO\n",
    "import os\n",
    "from IPython.display import display, Image\n",
    "from IPython import display\n",
    "display.clear_output()\n",
    "!yolo checks"
   ]
  },
  {
   "cell_type": "markdown",
   "metadata": {
    "id": "srALdAxtnyKK"
   },
   "source": [
    "# Train YOLOv8 with my custom database"
   ]
  },
  {
   "cell_type": "code",
   "execution_count": 6,
   "metadata": {
    "colab": {
     "base_uri": "https://localhost:8080/"
    },
    "id": "DgFK4g9Bn2L8",
    "outputId": "676c6473-baf2-4393-b925-c0b69b402d2e"
   },
   "outputs": [
    {
     "name": "stdout",
     "output_type": "stream",
     "text": [
      "Collecting roboflow\n",
      "  Downloading roboflow-1.1.49-py3-none-any.whl.metadata (9.7 kB)\n",
      "Requirement already satisfied: certifi in /usr/local/lib/python3.10/dist-packages (from roboflow) (2024.8.30)\n",
      "Collecting idna==3.7 (from roboflow)\n",
      "  Downloading idna-3.7-py3-none-any.whl.metadata (9.9 kB)\n",
      "Requirement already satisfied: cycler in /usr/local/lib/python3.10/dist-packages (from roboflow) (0.12.1)\n",
      "Requirement already satisfied: kiwisolver>=1.3.1 in /usr/local/lib/python3.10/dist-packages (from roboflow) (1.4.7)\n",
      "Requirement already satisfied: matplotlib in /usr/local/lib/python3.10/dist-packages (from roboflow) (3.8.0)\n",
      "Requirement already satisfied: numpy>=1.18.5 in /usr/local/lib/python3.10/dist-packages (from roboflow) (1.26.4)\n",
      "Requirement already satisfied: opencv-python-headless==4.10.0.84 in /usr/local/lib/python3.10/dist-packages (from roboflow) (4.10.0.84)\n",
      "Requirement already satisfied: Pillow>=7.1.2 in /usr/local/lib/python3.10/dist-packages (from roboflow) (11.0.0)\n",
      "Requirement already satisfied: python-dateutil in /usr/local/lib/python3.10/dist-packages (from roboflow) (2.8.2)\n",
      "Collecting python-dotenv (from roboflow)\n",
      "  Downloading python_dotenv-1.0.1-py3-none-any.whl.metadata (23 kB)\n",
      "Requirement already satisfied: requests in /usr/local/lib/python3.10/dist-packages (from roboflow) (2.32.3)\n",
      "Requirement already satisfied: six in /usr/local/lib/python3.10/dist-packages (from roboflow) (1.16.0)\n",
      "Requirement already satisfied: urllib3>=1.26.6 in /usr/local/lib/python3.10/dist-packages (from roboflow) (2.2.3)\n",
      "Requirement already satisfied: tqdm>=4.41.0 in /usr/local/lib/python3.10/dist-packages (from roboflow) (4.66.6)\n",
      "Requirement already satisfied: PyYAML>=5.3.1 in /usr/local/lib/python3.10/dist-packages (from roboflow) (6.0.2)\n",
      "Requirement already satisfied: requests-toolbelt in /usr/local/lib/python3.10/dist-packages (from roboflow) (1.0.0)\n",
      "Collecting filetype (from roboflow)\n",
      "  Downloading filetype-1.2.0-py2.py3-none-any.whl.metadata (6.5 kB)\n",
      "Requirement already satisfied: contourpy>=1.0.1 in /usr/local/lib/python3.10/dist-packages (from matplotlib->roboflow) (1.3.0)\n",
      "Requirement already satisfied: fonttools>=4.22.0 in /usr/local/lib/python3.10/dist-packages (from matplotlib->roboflow) (4.54.1)\n",
      "Requirement already satisfied: packaging>=20.0 in /usr/local/lib/python3.10/dist-packages (from matplotlib->roboflow) (24.2)\n",
      "Requirement already satisfied: pyparsing>=2.3.1 in /usr/local/lib/python3.10/dist-packages (from matplotlib->roboflow) (3.2.0)\n",
      "Requirement already satisfied: charset-normalizer<4,>=2 in /usr/local/lib/python3.10/dist-packages (from requests->roboflow) (3.4.0)\n",
      "Downloading roboflow-1.1.49-py3-none-any.whl (80 kB)\n",
      "\u001b[2K   \u001b[90m━━━━━━━━━━━━━━━━━━━━━━━━━━━━━━━━━━━━━━━━\u001b[0m \u001b[32m80.9/80.9 kB\u001b[0m \u001b[31m5.5 MB/s\u001b[0m eta \u001b[36m0:00:00\u001b[0m\n",
      "\u001b[?25hDownloading idna-3.7-py3-none-any.whl (66 kB)\n",
      "\u001b[2K   \u001b[90m━━━━━━━━━━━━━━━━━━━━━━━━━━━━━━━━━━━━━━━━\u001b[0m \u001b[32m66.8/66.8 kB\u001b[0m \u001b[31m7.1 MB/s\u001b[0m eta \u001b[36m0:00:00\u001b[0m\n",
      "\u001b[?25hDownloading filetype-1.2.0-py2.py3-none-any.whl (19 kB)\n",
      "Downloading python_dotenv-1.0.1-py3-none-any.whl (19 kB)\n",
      "Installing collected packages: filetype, python-dotenv, idna, roboflow\n",
      "  Attempting uninstall: idna\n",
      "    Found existing installation: idna 3.10\n",
      "    Uninstalling idna-3.10:\n",
      "      Successfully uninstalled idna-3.10\n",
      "Successfully installed filetype-1.2.0 idna-3.7 python-dotenv-1.0.1 roboflow-1.1.49\n",
      "loading Roboflow workspace...\n",
      "loading Roboflow project...\n"
     ]
    },
    {
     "name": "stderr",
     "output_type": "stream",
     "text": [
      "Downloading Dataset Version Zip in invader-detect-1 to yolov8:: 100%|██████████| 90606/90606 [00:01<00:00, 60335.59it/s]"
     ]
    },
    {
     "name": "stdout",
     "output_type": "stream",
     "text": [
      "\n"
     ]
    },
    {
     "name": "stderr",
     "output_type": "stream",
     "text": [
      "\n",
      "Extracting Dataset Version Zip to invader-detect-1 in yolov8:: 100%|██████████| 4358/4358 [00:00<00:00, 5413.75it/s]\n"
     ]
    }
   ],
   "source": [
    "!pip install roboflow\n",
    "\n",
    "from roboflow import Roboflow\n",
    "rf = Roboflow(api_key=\"RiFwG3axdghVsmC6gdQu\")\n",
    "project = rf.workspace(\"str-sdcqe\").project(\"invader-detect\")\n",
    "version = project.version(1)\n",
    "dataset = version.download(\"yolov8\")\n"
   ]
  },
  {
   "cell_type": "code",
   "execution_count": 7,
   "metadata": {
    "colab": {
     "base_uri": "https://localhost:8080/"
    },
    "id": "SusM31TAn-Db",
    "outputId": "21dbf813-195e-4179-dfa1-d10b9e047a24"
   },
   "outputs": [
    {
     "name": "stdout",
     "output_type": "stream",
     "text": [
      "Downloading https://github.com/ultralytics/assets/releases/download/v8.3.0/yolov8n.pt to 'yolov8n.pt'...\n",
      "100% 6.25M/6.25M [00:00<00:00, 101MB/s]\n",
      "Ultralytics 8.3.29 🚀 Python-3.10.12 torch-2.5.0+cu121 CUDA:0 (Tesla T4, 15102MiB)\n",
      "\u001b[34m\u001b[1mengine/trainer: \u001b[0mtask=detect, mode=train, model=yolov8n.pt, data=/content/invader-detect-1/data.yaml, epochs=20, time=None, patience=100, batch=16, imgsz=640, save=True, save_period=-1, cache=False, device=None, workers=8, project=None, name=train, exist_ok=False, pretrained=True, optimizer=auto, verbose=True, seed=0, deterministic=True, single_cls=False, rect=False, cos_lr=False, close_mosaic=10, resume=False, amp=True, fraction=1.0, profile=False, freeze=None, multi_scale=False, overlap_mask=True, mask_ratio=4, dropout=0.0, val=True, split=val, save_json=False, save_hybrid=False, conf=None, iou=0.7, max_det=300, half=False, dnn=False, plots=True, source=None, vid_stride=1, stream_buffer=False, visualize=False, augment=False, agnostic_nms=False, classes=None, retina_masks=False, embed=None, show=False, save_frames=False, save_txt=False, save_conf=False, save_crop=False, show_labels=True, show_conf=True, show_boxes=True, line_width=None, format=torchscript, keras=False, optimize=False, int8=False, dynamic=False, simplify=True, opset=None, workspace=4, nms=False, lr0=0.01, lrf=0.01, momentum=0.937, weight_decay=0.0005, warmup_epochs=3.0, warmup_momentum=0.8, warmup_bias_lr=0.1, box=7.5, cls=0.5, dfl=1.5, pose=12.0, kobj=1.0, label_smoothing=0.0, nbs=64, hsv_h=0.015, hsv_s=0.7, hsv_v=0.4, degrees=0.0, translate=0.1, scale=0.5, shear=0.0, perspective=0.0, flipud=0.0, fliplr=0.5, bgr=0.0, mosaic=1.0, mixup=0.0, copy_paste=0.0, copy_paste_mode=flip, auto_augment=randaugment, erasing=0.4, crop_fraction=1.0, cfg=None, tracker=botsort.yaml, save_dir=runs/detect/train\n",
      "Downloading https://ultralytics.com/assets/Arial.ttf to '/root/.config/Ultralytics/Arial.ttf'...\n",
      "100% 755k/755k [00:00<00:00, 18.8MB/s]\n",
      "Overriding model.yaml nc=80 with nc=1\n",
      "\n",
      "                   from  n    params  module                                       arguments                     \n",
      "  0                  -1  1       464  ultralytics.nn.modules.conv.Conv             [3, 16, 3, 2]                 \n",
      "  1                  -1  1      4672  ultralytics.nn.modules.conv.Conv             [16, 32, 3, 2]                \n",
      "  2                  -1  1      7360  ultralytics.nn.modules.block.C2f             [32, 32, 1, True]             \n",
      "  3                  -1  1     18560  ultralytics.nn.modules.conv.Conv             [32, 64, 3, 2]                \n",
      "  4                  -1  2     49664  ultralytics.nn.modules.block.C2f             [64, 64, 2, True]             \n",
      "  5                  -1  1     73984  ultralytics.nn.modules.conv.Conv             [64, 128, 3, 2]               \n",
      "  6                  -1  2    197632  ultralytics.nn.modules.block.C2f             [128, 128, 2, True]           \n",
      "  7                  -1  1    295424  ultralytics.nn.modules.conv.Conv             [128, 256, 3, 2]              \n",
      "  8                  -1  1    460288  ultralytics.nn.modules.block.C2f             [256, 256, 1, True]           \n",
      "  9                  -1  1    164608  ultralytics.nn.modules.block.SPPF            [256, 256, 5]                 \n",
      " 10                  -1  1         0  torch.nn.modules.upsampling.Upsample         [None, 2, 'nearest']          \n",
      " 11             [-1, 6]  1         0  ultralytics.nn.modules.conv.Concat           [1]                           \n",
      " 12                  -1  1    148224  ultralytics.nn.modules.block.C2f             [384, 128, 1]                 \n",
      " 13                  -1  1         0  torch.nn.modules.upsampling.Upsample         [None, 2, 'nearest']          \n",
      " 14             [-1, 4]  1         0  ultralytics.nn.modules.conv.Concat           [1]                           \n",
      " 15                  -1  1     37248  ultralytics.nn.modules.block.C2f             [192, 64, 1]                  \n",
      " 16                  -1  1     36992  ultralytics.nn.modules.conv.Conv             [64, 64, 3, 2]                \n",
      " 17            [-1, 12]  1         0  ultralytics.nn.modules.conv.Concat           [1]                           \n",
      " 18                  -1  1    123648  ultralytics.nn.modules.block.C2f             [192, 128, 1]                 \n",
      " 19                  -1  1    147712  ultralytics.nn.modules.conv.Conv             [128, 128, 3, 2]              \n",
      " 20             [-1, 9]  1         0  ultralytics.nn.modules.conv.Concat           [1]                           \n",
      " 21                  -1  1    493056  ultralytics.nn.modules.block.C2f             [384, 256, 1]                 \n",
      " 22        [15, 18, 21]  1    751507  ultralytics.nn.modules.head.Detect           [1, [64, 128, 256]]           \n",
      "Model summary: 225 layers, 3,011,043 parameters, 3,011,027 gradients, 8.2 GFLOPs\n",
      "\n",
      "Transferred 319/355 items from pretrained weights\n",
      "\u001b[34m\u001b[1mTensorBoard: \u001b[0mStart with 'tensorboard --logdir runs/detect/train', view at http://localhost:6006/\n",
      "Freezing layer 'model.22.dfl.conv.weight'\n",
      "\u001b[34m\u001b[1mAMP: \u001b[0mrunning Automatic Mixed Precision (AMP) checks...\n",
      "Downloading https://github.com/ultralytics/assets/releases/download/v8.3.0/yolo11n.pt to 'yolo11n.pt'...\n",
      "100% 5.35M/5.35M [00:00<00:00, 106MB/s]\n",
      "\u001b[34m\u001b[1mAMP: \u001b[0mchecks passed ✅\n",
      "\u001b[34m\u001b[1mtrain: \u001b[0mScanning /content/invader-detect-1/train/labels... 1897 images, 735 backgrounds, 0 corrupt: 100% 1897/1897 [00:01<00:00, 959.55it/s]\n",
      "\u001b[34m\u001b[1mtrain: \u001b[0mNew cache created: /content/invader-detect-1/train/labels.cache\n",
      "/usr/local/lib/python3.10/dist-packages/albumentations/__init__.py:24: UserWarning: A new version of Albumentations is available: 1.4.21 (you have 1.4.20). Upgrade using: pip install -U albumentations. To disable automatic update checks, set the environment variable NO_ALBUMENTATIONS_UPDATE to 1.\n",
      "  check_for_updates()\n",
      "\u001b[34m\u001b[1malbumentations: \u001b[0mBlur(p=0.01, blur_limit=(3, 7)), MedianBlur(p=0.01, blur_limit=(3, 7)), ToGray(p=0.01, num_output_channels=3, method='weighted_average'), CLAHE(p=0.01, clip_limit=(1.0, 4.0), tile_grid_size=(8, 8))\n",
      "\u001b[34m\u001b[1mval: \u001b[0mScanning /content/invader-detect-1/valid/labels... 184 images, 67 backgrounds, 0 corrupt: 100% 184/184 [00:00<00:00, 1918.70it/s]\n",
      "\u001b[34m\u001b[1mval: \u001b[0mNew cache created: /content/invader-detect-1/valid/labels.cache\n",
      "Plotting labels to runs/detect/train/labels.jpg... \n",
      "\u001b[34m\u001b[1moptimizer:\u001b[0m 'optimizer=auto' found, ignoring 'lr0=0.01' and 'momentum=0.937' and determining best 'optimizer', 'lr0' and 'momentum' automatically... \n",
      "\u001b[34m\u001b[1moptimizer:\u001b[0m AdamW(lr=0.002, momentum=0.9) with parameter groups 57 weight(decay=0.0), 64 weight(decay=0.0005), 63 bias(decay=0.0)\n",
      "\u001b[34m\u001b[1mTensorBoard: \u001b[0mmodel graph visualization added ✅\n",
      "Image sizes 640 train, 640 val\n",
      "Using 2 dataloader workers\n",
      "Logging results to \u001b[1mruns/detect/train\u001b[0m\n",
      "Starting training for 20 epochs...\n",
      "\n",
      "      Epoch    GPU_mem   box_loss   cls_loss   dfl_loss  Instances       Size\n",
      "       1/20      2.27G      1.217      2.099        1.3         16        640: 100% 119/119 [00:40<00:00,  2.93it/s]\n",
      "                 Class     Images  Instances      Box(P          R      mAP50  mAP50-95): 100% 6/6 [00:02<00:00,  2.09it/s]\n",
      "                   all        184        222      0.652      0.405       0.45       0.25\n",
      "\n",
      "      Epoch    GPU_mem   box_loss   cls_loss   dfl_loss  Instances       Size\n",
      "       2/20      2.16G      1.417      1.822      1.425         20        640: 100% 119/119 [00:35<00:00,  3.36it/s]\n",
      "                 Class     Images  Instances      Box(P          R      mAP50  mAP50-95): 100% 6/6 [00:01<00:00,  4.14it/s]\n",
      "                   all        184        222      0.389      0.315      0.288      0.149\n",
      "\n",
      "      Epoch    GPU_mem   box_loss   cls_loss   dfl_loss  Instances       Size\n",
      "       3/20      2.16G      1.483      1.669      1.459         27        640: 100% 119/119 [00:35<00:00,  3.39it/s]\n",
      "                 Class     Images  Instances      Box(P          R      mAP50  mAP50-95): 100% 6/6 [00:01<00:00,  3.81it/s]\n",
      "                   all        184        222      0.588      0.459      0.478      0.266\n",
      "\n",
      "      Epoch    GPU_mem   box_loss   cls_loss   dfl_loss  Instances       Size\n",
      "       4/20      2.15G      1.487      1.607      1.478         21        640: 100% 119/119 [00:35<00:00,  3.37it/s]\n",
      "                 Class     Images  Instances      Box(P          R      mAP50  mAP50-95): 100% 6/6 [00:02<00:00,  2.35it/s]\n",
      "                   all        184        222      0.528      0.423      0.451      0.261\n",
      "\n",
      "      Epoch    GPU_mem   box_loss   cls_loss   dfl_loss  Instances       Size\n",
      "       5/20      2.14G      1.437      1.506      1.432         22        640: 100% 119/119 [00:35<00:00,  3.38it/s]\n",
      "                 Class     Images  Instances      Box(P          R      mAP50  mAP50-95): 100% 6/6 [00:01<00:00,  3.33it/s]\n",
      "                   all        184        222      0.672      0.559      0.624       0.37\n",
      "\n",
      "      Epoch    GPU_mem   box_loss   cls_loss   dfl_loss  Instances       Size\n",
      "       6/20      2.17G      1.341      1.393      1.377         17        640: 100% 119/119 [00:34<00:00,  3.42it/s]\n",
      "                 Class     Images  Instances      Box(P          R      mAP50  mAP50-95): 100% 6/6 [00:01<00:00,  4.25it/s]\n",
      "                   all        184        222       0.64      0.428      0.466      0.272\n",
      "\n",
      "      Epoch    GPU_mem   box_loss   cls_loss   dfl_loss  Instances       Size\n",
      "       7/20      2.17G      1.313      1.325      1.379         22        640: 100% 119/119 [00:35<00:00,  3.39it/s]\n",
      "                 Class     Images  Instances      Box(P          R      mAP50  mAP50-95): 100% 6/6 [00:01<00:00,  3.80it/s]\n",
      "                   all        184        222      0.757      0.568      0.649      0.394\n",
      "\n",
      "      Epoch    GPU_mem   box_loss   cls_loss   dfl_loss  Instances       Size\n",
      "       8/20      2.16G       1.27      1.239      1.347         23        640: 100% 119/119 [00:34<00:00,  3.44it/s]\n",
      "                 Class     Images  Instances      Box(P          R      mAP50  mAP50-95): 100% 6/6 [00:02<00:00,  2.91it/s]\n",
      "                   all        184        222      0.736      0.641      0.706      0.433\n",
      "\n",
      "      Epoch    GPU_mem   box_loss   cls_loss   dfl_loss  Instances       Size\n",
      "       9/20      2.18G      1.214       1.16      1.311         20        640: 100% 119/119 [00:35<00:00,  3.35it/s]\n",
      "                 Class     Images  Instances      Box(P          R      mAP50  mAP50-95): 100% 6/6 [00:03<00:00,  1.91it/s]\n",
      "                   all        184        222      0.734      0.644      0.697      0.456\n",
      "\n",
      "      Epoch    GPU_mem   box_loss   cls_loss   dfl_loss  Instances       Size\n",
      "      10/20      2.16G      1.153      1.086      1.275         31        640: 100% 119/119 [00:38<00:00,  3.13it/s]\n",
      "                 Class     Images  Instances      Box(P          R      mAP50  mAP50-95): 100% 6/6 [00:01<00:00,  4.35it/s]\n",
      "                   all        184        222      0.819      0.662      0.774       0.52\n",
      "Closing dataloader mosaic\n",
      "\u001b[34m\u001b[1malbumentations: \u001b[0mBlur(p=0.01, blur_limit=(3, 7)), MedianBlur(p=0.01, blur_limit=(3, 7)), ToGray(p=0.01, num_output_channels=3, method='weighted_average'), CLAHE(p=0.01, clip_limit=(1.0, 4.0), tile_grid_size=(8, 8))\n",
      "\n",
      "      Epoch    GPU_mem   box_loss   cls_loss   dfl_loss  Instances       Size\n",
      "      11/20      2.23G     0.9983     0.9279      1.216         11        640: 100% 119/119 [00:35<00:00,  3.34it/s]\n",
      "                 Class     Images  Instances      Box(P          R      mAP50  mAP50-95): 100% 6/6 [00:01<00:00,  4.03it/s]\n",
      "                   all        184        222      0.828      0.631      0.732      0.478\n",
      "\n",
      "      Epoch    GPU_mem   box_loss   cls_loss   dfl_loss  Instances       Size\n",
      "      12/20      2.15G     0.9637     0.8864      1.184         10        640: 100% 119/119 [00:33<00:00,  3.53it/s]\n",
      "                 Class     Images  Instances      Box(P          R      mAP50  mAP50-95): 100% 6/6 [00:01<00:00,  3.86it/s]\n",
      "                   all        184        222      0.812      0.622      0.717      0.468\n",
      "\n",
      "      Epoch    GPU_mem   box_loss   cls_loss   dfl_loss  Instances       Size\n",
      "      13/20      2.14G     0.9366     0.8045      1.158          7        640: 100% 119/119 [00:33<00:00,  3.51it/s]\n",
      "                 Class     Images  Instances      Box(P          R      mAP50  mAP50-95): 100% 6/6 [00:01<00:00,  4.16it/s]\n",
      "                   all        184        222      0.856      0.725      0.782      0.525\n",
      "\n",
      "      Epoch    GPU_mem   box_loss   cls_loss   dfl_loss  Instances       Size\n",
      "      14/20      2.16G     0.8844     0.7647      1.129         16        640: 100% 119/119 [00:33<00:00,  3.54it/s]\n",
      "                 Class     Images  Instances      Box(P          R      mAP50  mAP50-95): 100% 6/6 [00:01<00:00,  3.81it/s]\n",
      "                   all        184        222      0.818      0.743      0.795      0.548\n",
      "\n",
      "      Epoch    GPU_mem   box_loss   cls_loss   dfl_loss  Instances       Size\n",
      "      15/20      2.15G     0.8374     0.6941      1.103          2        640: 100% 119/119 [00:33<00:00,  3.50it/s]\n",
      "                 Class     Images  Instances      Box(P          R      mAP50  mAP50-95): 100% 6/6 [00:01<00:00,  4.11it/s]\n",
      "                   all        184        222      0.814      0.721      0.794      0.572\n",
      "\n",
      "      Epoch    GPU_mem   box_loss   cls_loss   dfl_loss  Instances       Size\n",
      "      16/20      2.15G     0.7949      0.676       1.08          7        640: 100% 119/119 [00:33<00:00,  3.55it/s]\n",
      "                 Class     Images  Instances      Box(P          R      mAP50  mAP50-95): 100% 6/6 [00:01<00:00,  3.87it/s]\n",
      "                   all        184        222      0.887       0.71      0.805      0.581\n",
      "\n",
      "      Epoch    GPU_mem   box_loss   cls_loss   dfl_loss  Instances       Size\n",
      "      17/20      2.14G     0.7483     0.6102      1.045          9        640: 100% 119/119 [00:33<00:00,  3.56it/s]\n",
      "                 Class     Images  Instances      Box(P          R      mAP50  mAP50-95): 100% 6/6 [00:01<00:00,  3.29it/s]\n",
      "                   all        184        222      0.821      0.694      0.796      0.579\n",
      "\n",
      "      Epoch    GPU_mem   box_loss   cls_loss   dfl_loss  Instances       Size\n",
      "      18/20      2.19G     0.7257     0.5868       1.03         10        640: 100% 119/119 [00:33<00:00,  3.60it/s]\n",
      "                 Class     Images  Instances      Box(P          R      mAP50  mAP50-95): 100% 6/6 [00:02<00:00,  2.65it/s]\n",
      "                   all        184        222      0.859      0.711      0.806      0.581\n",
      "\n",
      "      Epoch    GPU_mem   box_loss   cls_loss   dfl_loss  Instances       Size\n",
      "      19/20      2.15G       0.69     0.5366      1.011          7        640: 100% 119/119 [00:32<00:00,  3.64it/s]\n",
      "                 Class     Images  Instances      Box(P          R      mAP50  mAP50-95): 100% 6/6 [00:02<00:00,  2.12it/s]\n",
      "                   all        184        222      0.923      0.671       0.81      0.587\n",
      "\n",
      "      Epoch    GPU_mem   box_loss   cls_loss   dfl_loss  Instances       Size\n",
      "      20/20      2.15G     0.6531     0.5247      1.002          8        640: 100% 119/119 [00:34<00:00,  3.41it/s]\n",
      "                 Class     Images  Instances      Box(P          R      mAP50  mAP50-95): 100% 6/6 [00:02<00:00,  2.19it/s]\n",
      "                   all        184        222      0.877      0.739      0.822      0.604\n",
      "\n",
      "20 epochs completed in 0.210 hours.\n",
      "Optimizer stripped from runs/detect/train/weights/last.pt, 6.2MB\n",
      "Optimizer stripped from runs/detect/train/weights/best.pt, 6.2MB\n",
      "\n",
      "Validating runs/detect/train/weights/best.pt...\n",
      "Ultralytics 8.3.29 🚀 Python-3.10.12 torch-2.5.0+cu121 CUDA:0 (Tesla T4, 15102MiB)\n",
      "Model summary (fused): 168 layers, 3,005,843 parameters, 0 gradients, 8.1 GFLOPs\n",
      "                 Class     Images  Instances      Box(P          R      mAP50  mAP50-95): 100% 6/6 [00:02<00:00,  2.04it/s]\n",
      "                   all        184        222      0.876      0.739      0.821      0.604\n",
      "Speed: 0.3ms preprocess, 2.7ms inference, 0.0ms loss, 5.2ms postprocess per image\n",
      "Results saved to \u001b[1mruns/detect/train\u001b[0m\n",
      "💡 Learn more at https://docs.ultralytics.com/modes/train\n"
     ]
    }
   ],
   "source": [
    "!yolo task=detect mode=train model=yolov8n.pt data=/content/invader-detect-1/data.yaml epochs=20 imgsz=640"
   ]
  },
  {
   "cell_type": "markdown",
   "metadata": {
    "id": "LdpQYmGBxLXO"
   },
   "source": [
    "#Testar o modelo"
   ]
  },
  {
   "cell_type": "code",
   "execution_count": 9,
   "metadata": {
    "colab": {
     "base_uri": "https://localhost:8080/"
    },
    "id": "pigH47RxqJv3",
    "outputId": "500beef9-abca-418b-89cf-82e959377306"
   },
   "outputs": [
    {
     "name": "stdout",
     "output_type": "stream",
     "text": [
      "Ultralytics 8.3.29 🚀 Python-3.10.12 torch-2.5.0+cu121 CUDA:0 (Tesla T4, 15102MiB)\n",
      "Model summary (fused): 168 layers, 3,005,843 parameters, 0 gradients, 8.1 GFLOPs\n",
      "\n",
      "image 1/92 /content/invader-detect-1/test/images/106_png.rf.1cf54643183da1d9e53c39547f0c1544.jpg: 640x640 (no detections), 9.5ms\n",
      "image 2/92 /content/invader-detect-1/test/images/111_png.rf.269d542a8a5e6ae1d9dc1b6077b29c41.jpg: 640x640 5 Invaders, 8.2ms\n",
      "image 3/92 /content/invader-detect-1/test/images/112_png.rf.ac90a6361be007bb16ed4ce197b24a1d.jpg: 640x640 (no detections), 9.3ms\n",
      "image 4/92 /content/invader-detect-1/test/images/115_png.rf.9fc889723a3fd753bfb2dfb2092db5d0.jpg: 640x640 3 Invaders, 8.7ms\n",
      "image 5/92 /content/invader-detect-1/test/images/117_png.rf.46aaba8561afc3a54726f6d7c81edcaa.jpg: 640x640 (no detections), 8.2ms\n",
      "image 6/92 /content/invader-detect-1/test/images/11_png.rf.883730a03df4e975e72d4b3680837280.jpg: 640x640 1 Invader, 8.2ms\n",
      "image 7/92 /content/invader-detect-1/test/images/128_png.rf.ac9df1f4d173fd7da4dad63aad450a91.jpg: 640x640 3 Invaders, 8.4ms\n",
      "image 8/92 /content/invader-detect-1/test/images/138_png.rf.16978c6bbbeb2dc19659db389d7104ad.jpg: 640x640 (no detections), 8.3ms\n",
      "image 9/92 /content/invader-detect-1/test/images/139_png.rf.23b8426229f115206e3254d96976339e.jpg: 640x640 1 Invader, 8.1ms\n",
      "image 10/92 /content/invader-detect-1/test/images/146_png.rf.82a7f2570dbcdb360416149da803dccf.jpg: 640x640 2 Invaders, 7.8ms\n",
      "image 11/92 /content/invader-detect-1/test/images/148_png.rf.96d68061cd3e679c26a3b0ba56ff119f.jpg: 640x640 (no detections), 8.7ms\n",
      "image 12/92 /content/invader-detect-1/test/images/158_png.rf.eb690bc909b6f586d4d2cf8f2bea840f.jpg: 640x640 2 Invaders, 8.0ms\n",
      "image 13/92 /content/invader-detect-1/test/images/159_png.rf.a3512c7878a1b29ebc4e88f8e9413f99.jpg: 640x640 (no detections), 9.5ms\n",
      "image 14/92 /content/invader-detect-1/test/images/15_png.rf.bd05c742282a00120049ef528697a252.jpg: 640x640 (no detections), 9.3ms\n",
      "image 15/92 /content/invader-detect-1/test/images/164_png.rf.79934e3b0c947b14366c5590de247910.jpg: 640x640 (no detections), 11.2ms\n",
      "image 16/92 /content/invader-detect-1/test/images/164_png.rf.933d28a23f90ce2a7e12bc6dc28fd569.jpg: 640x640 1 Invader, 8.3ms\n",
      "image 17/92 /content/invader-detect-1/test/images/167_png.rf.64a0050310636d42a35fb57d3139ba76.jpg: 640x640 (no detections), 8.4ms\n",
      "image 18/92 /content/invader-detect-1/test/images/168_png.rf.eff7743bc316f82424addac720eb1832.jpg: 640x640 (no detections), 8.2ms\n",
      "image 19/92 /content/invader-detect-1/test/images/16_png.rf.6a5c260dba04231b79f98a13dafc4a0a.jpg: 640x640 (no detections), 9.2ms\n",
      "image 20/92 /content/invader-detect-1/test/images/172_png.rf.b96b351dbca11a39ac400d2c8fa9ecfd.jpg: 640x640 2 Invaders, 8.2ms\n",
      "image 21/92 /content/invader-detect-1/test/images/176_png.rf.179023e416b57427edadf465339e7d30.jpg: 640x640 (no detections), 7.9ms\n",
      "image 22/92 /content/invader-detect-1/test/images/177_png.rf.0be40c8189284f836eecc212ecbf5243.jpg: 640x640 (no detections), 8.2ms\n",
      "image 23/92 /content/invader-detect-1/test/images/185_png.rf.6a9e58809b472f9260e6a29357099e33.jpg: 640x640 (no detections), 7.9ms\n",
      "image 24/92 /content/invader-detect-1/test/images/193_png.rf.a3f3f04de9d6fa397604def575e97f92.jpg: 640x640 3 Invaders, 8.0ms\n",
      "image 25/92 /content/invader-detect-1/test/images/1_png.rf.974236bcf3862d407911e606459f1d88.jpg: 640x640 3 Invaders, 8.5ms\n",
      "image 26/92 /content/invader-detect-1/test/images/20_png.rf.f6569b43941cbd5975f7561f57e8ae4d.jpg: 640x640 3 Invaders, 8.5ms\n",
      "image 27/92 /content/invader-detect-1/test/images/213_png.rf.3ff5baef276a79d9ada7a8beb55bece4.jpg: 640x640 (no detections), 8.1ms\n",
      "image 28/92 /content/invader-detect-1/test/images/218_png.rf.b18971edba89efc0bdd916b025b52b1d.jpg: 640x640 5 Invaders, 8.0ms\n",
      "image 29/92 /content/invader-detect-1/test/images/223_png.rf.16214ddc1e6008f4b37853e6e8314c67.jpg: 640x640 (no detections), 8.0ms\n",
      "image 30/92 /content/invader-detect-1/test/images/224_png.rf.4c4369999df9458fe621c55523236a24.jpg: 640x640 3 Invaders, 8.2ms\n",
      "image 31/92 /content/invader-detect-1/test/images/225_png.rf.a42efec869425168b432411bb0d8a4c7.jpg: 640x640 1 Invader, 8.1ms\n",
      "image 32/92 /content/invader-detect-1/test/images/225_png.rf.f04f3e55fdd109bb53fc90687e0d0d16.jpg: 640x640 (no detections), 10.2ms\n",
      "image 33/92 /content/invader-detect-1/test/images/236_png.rf.3ae8568d762f52e9417df38f82b43f80.jpg: 640x640 (no detections), 8.4ms\n",
      "image 34/92 /content/invader-detect-1/test/images/23_png.rf.240d55de77595f9dd09405553568bd8c.jpg: 640x640 3 Invaders, 8.3ms\n",
      "image 35/92 /content/invader-detect-1/test/images/250_png.rf.6e9433e29f51299381778306214e37a1.jpg: 640x640 1 Invader, 8.5ms\n",
      "image 36/92 /content/invader-detect-1/test/images/257_png.rf.a5d5db93efa2f4e583f773b08afa16c2.jpg: 640x640 2 Invaders, 8.3ms\n",
      "image 37/92 /content/invader-detect-1/test/images/259_png.rf.0e8f853c73520b9c247492b8e5a2949d.jpg: 640x640 2 Invaders, 8.3ms\n",
      "image 38/92 /content/invader-detect-1/test/images/260_png.rf.fee011e6d6c775ec4ff4f389278e5352.jpg: 640x640 2 Invaders, 9.1ms\n",
      "image 39/92 /content/invader-detect-1/test/images/261_png.rf.bc75024e92cb1577d8d43d91610a2cb0.jpg: 640x640 (no detections), 8.5ms\n",
      "image 40/92 /content/invader-detect-1/test/images/263_png.rf.b0195a9b0944eda16e6d4c4c919424fa.jpg: 640x640 2 Invaders, 8.1ms\n",
      "image 41/92 /content/invader-detect-1/test/images/265_png.rf.62e226d1e9abb3160ed1035bbfab4e6f.jpg: 640x640 (no detections), 8.1ms\n",
      "image 42/92 /content/invader-detect-1/test/images/287_png.rf.3bdd526a95d07238b55d2264a07930d9.jpg: 640x640 1 Invader, 8.1ms\n",
      "image 43/92 /content/invader-detect-1/test/images/287_png.rf.5958b80740eaf8373ec627c45e5156c2.jpg: 640x640 1 Invader, 8.3ms\n",
      "image 44/92 /content/invader-detect-1/test/images/288_png.rf.ef09312a22b0ffb75fa9e871ecc0bbda.jpg: 640x640 1 Invader, 8.4ms\n",
      "image 45/92 /content/invader-detect-1/test/images/291_png.rf.9fe6e614051e5944add017cb7cacca83.jpg: 640x640 (no detections), 8.0ms\n",
      "image 46/92 /content/invader-detect-1/test/images/296_png.rf.e0bb45597329ba0a117733be4362a57a.jpg: 640x640 1 Invader, 8.9ms\n",
      "image 47/92 /content/invader-detect-1/test/images/299_png.rf.f9a876d311f703f2cd6875c1b43fa891.jpg: 640x640 1 Invader, 9.1ms\n",
      "image 48/92 /content/invader-detect-1/test/images/2_png.rf.9a23ba1629e6922c9efa89fd34cf7c22.jpg: 640x640 1 Invader, 8.1ms\n",
      "image 49/92 /content/invader-detect-1/test/images/302_png.rf.77f13d527995699a4d62765be49a94b4.jpg: 640x640 1 Invader, 7.7ms\n",
      "image 50/92 /content/invader-detect-1/test/images/306_png.rf.b45f29f649f0228fc309ea04bce5015f.jpg: 640x640 (no detections), 8.2ms\n",
      "image 51/92 /content/invader-detect-1/test/images/310_png.rf.13e23dbe237b8018a401d34c23ae5b52.jpg: 640x640 (no detections), 9.7ms\n",
      "image 52/92 /content/invader-detect-1/test/images/311_png.rf.f1f34a0875503724dbf8ceffed3abc80.jpg: 640x640 1 Invader, 8.9ms\n",
      "image 53/92 /content/invader-detect-1/test/images/315_png.rf.02c56d83933c18ea5f45adfd49b36d76.jpg: 640x640 1 Invader, 8.0ms\n",
      "image 54/92 /content/invader-detect-1/test/images/325_png.rf.05dc3c02d07e1ac81b4a4a9cc9561c15.jpg: 640x640 (no detections), 7.9ms\n",
      "image 55/92 /content/invader-detect-1/test/images/330_png.rf.dceb9d84d27aefd70df556721522cec5.jpg: 640x640 1 Invader, 8.1ms\n",
      "image 56/92 /content/invader-detect-1/test/images/33_png.rf.fb0c268da41d9af588dda19a767c6352.jpg: 640x640 1 Invader, 9.2ms\n",
      "image 57/92 /content/invader-detect-1/test/images/344_png.rf.d7bb0719640a7665425d720698f4620b.jpg: 640x640 1 Invader, 10.2ms\n",
      "image 58/92 /content/invader-detect-1/test/images/346_png.rf.2b67199a83366d6d84d33756d01df663.jpg: 640x640 1 Invader, 8.6ms\n",
      "image 59/92 /content/invader-detect-1/test/images/348_png.rf.6cfe8d56e797bd4878cda4efe7d7b1e6.jpg: 640x640 (no detections), 8.6ms\n",
      "image 60/92 /content/invader-detect-1/test/images/34_png.rf.c1415ae9bf08047088c3e72ea07560b6.jpg: 640x640 1 Invader, 8.3ms\n",
      "image 61/92 /content/invader-detect-1/test/images/354_png.rf.cdbcdcf844a3a64666f03c0724329569.jpg: 640x640 (no detections), 8.4ms\n",
      "image 62/92 /content/invader-detect-1/test/images/357_png.rf.338b748ca35cc093dcee103226d18aad.jpg: 640x640 2 Invaders, 8.6ms\n",
      "image 63/92 /content/invader-detect-1/test/images/361_png.rf.241523d122e729883d7ce93b0b592b49.jpg: 640x640 1 Invader, 9.1ms\n",
      "image 64/92 /content/invader-detect-1/test/images/364_png.rf.6d53c844a8e90c22f1923f82391ae209.jpg: 640x640 1 Invader, 8.4ms\n",
      "image 65/92 /content/invader-detect-1/test/images/380_png.rf.4b344f70718872066bb5976628add3d9.jpg: 640x640 1 Invader, 9.3ms\n",
      "image 66/92 /content/invader-detect-1/test/images/39_png.rf.d1c94decc5b78544fb9baea67fd8b7e9.jpg: 640x640 (no detections), 8.8ms\n",
      "image 67/92 /content/invader-detect-1/test/images/401_png.rf.f3992da8dd87fd0390f382bfa230812c.jpg: 640x640 3 Invaders, 8.9ms\n",
      "image 68/92 /content/invader-detect-1/test/images/40_png.rf.67ed4ca69274050ce08c1ed5554eaf13.jpg: 640x640 1 Invader, 8.7ms\n",
      "image 69/92 /content/invader-detect-1/test/images/419_png.rf.1a85efa9144128d15749d00450281778.jpg: 640x640 2 Invaders, 11.7ms\n",
      "image 70/92 /content/invader-detect-1/test/images/41_png.rf.2f210079f23e5593f9ab0281ab93517d.jpg: 640x640 1 Invader, 8.1ms\n",
      "image 71/92 /content/invader-detect-1/test/images/422_png.rf.bc05fe374873db64c5103e7a1350b63a.jpg: 640x640 3 Invaders, 8.5ms\n",
      "image 72/92 /content/invader-detect-1/test/images/431_png.rf.207a569fe37af1f33fcaf4dc7bee3730.jpg: 640x640 1 Invader, 8.1ms\n",
      "image 73/92 /content/invader-detect-1/test/images/456_png.rf.ad1cf577dea0703242c8a7c6966a11c5.jpg: 640x640 (no detections), 8.1ms\n",
      "image 74/92 /content/invader-detect-1/test/images/45_png.rf.2b62bf2da8f3d7fdaab2e3914839fcdf.jpg: 640x640 1 Invader, 8.1ms\n",
      "image 75/92 /content/invader-detect-1/test/images/461_png.rf.46206c167aaa06a33106ab1c4d8261e8.jpg: 640x640 1 Invader, 8.5ms\n",
      "image 76/92 /content/invader-detect-1/test/images/468_png.rf.157fb8530398c61f3e4ae54ee2f2a1e2.jpg: 640x640 1 Invader, 8.3ms\n",
      "image 77/92 /content/invader-detect-1/test/images/495_png.rf.a6f683548f63e85ff230ff61521ee749.jpg: 640x640 1 Invader, 8.8ms\n",
      "image 78/92 /content/invader-detect-1/test/images/524_png.rf.f9c2ac1476f16f2f3d95016a304496d6.jpg: 640x640 1 Invader, 11.8ms\n",
      "image 79/92 /content/invader-detect-1/test/images/537_png.rf.4a30bef8ce5cdb221e0ba079638d6e3b.jpg: 640x640 3 Invaders, 8.3ms\n",
      "image 80/92 /content/invader-detect-1/test/images/59_png.rf.242d9ecf7680cae7973db7d86a19274e.jpg: 640x640 1 Invader, 8.2ms\n",
      "image 81/92 /content/invader-detect-1/test/images/5_png.rf.8797e84c598f330cf099ad503d5f7e7c.jpg: 640x640 (no detections), 9.2ms\n",
      "image 82/92 /content/invader-detect-1/test/images/60_png.rf.2cd8bb2beb6e4c6f3ba47e4c7af3cb37.jpg: 640x640 (no detections), 8.5ms\n",
      "image 83/92 /content/invader-detect-1/test/images/64_png.rf.7d974f0ee4b5bf276936fa2bab12bc6b.jpg: 640x640 1 Invader, 9.9ms\n",
      "image 84/92 /content/invader-detect-1/test/images/73_png.rf.f258839dd483b5b88ec6972cc166f732.jpg: 640x640 (no detections), 10.9ms\n",
      "image 85/92 /content/invader-detect-1/test/images/75_png.rf.af768779ff1c8b88e0f020deed9924e6.jpg: 640x640 1 Invader, 10.7ms\n",
      "image 86/92 /content/invader-detect-1/test/images/77_png.rf.76b02b6dc8d736f597ebe60bb0794d8a.jpg: 640x640 7 Invaders, 9.3ms\n",
      "image 87/92 /content/invader-detect-1/test/images/79_png.rf.ad6ae1f68bc63c6080ae0384f3f90a4b.jpg: 640x640 1 Invader, 10.8ms\n",
      "image 88/92 /content/invader-detect-1/test/images/81_png.rf.7b489d285b0279ffab7d556376017bc7.jpg: 640x640 3 Invaders, 11.1ms\n",
      "image 89/92 /content/invader-detect-1/test/images/8_png.rf.1b13caa6312cda1d85b2c66e78241eda.jpg: 640x640 (no detections), 11.6ms\n",
      "image 90/92 /content/invader-detect-1/test/images/94_png.rf.766bb89b7cb03aa2bb6a3c7d9b90add1.jpg: 640x640 2 Invaders, 11.7ms\n",
      "image 91/92 /content/invader-detect-1/test/images/95_png.rf.cbc7fb959b78b38d16e30b1e0c61cdf0.jpg: 640x640 (no detections), 11.6ms\n",
      "image 92/92 /content/invader-detect-1/test/images/99_png.rf.50acc33967e2b887a65a9749653497bc.jpg: 640x640 (no detections), 13.5ms\n",
      "Speed: 1.6ms preprocess, 8.9ms inference, 9.5ms postprocess per image at shape (1, 3, 640, 640)\n",
      "Results saved to \u001b[1mruns/detect/predict\u001b[0m\n",
      "💡 Learn more at https://docs.ultralytics.com/modes/predict\n"
     ]
    }
   ],
   "source": [
    "!yolo task=detect mode=predict model=/content/runs/detect/train/weights/best.pt source=/content/invader-detect-1/test/images"
   ]
  }
 ],
 "metadata": {
  "accelerator": "GPU",
  "colab": {
   "gpuType": "T4",
   "provenance": []
  },
  "kernelspec": {
   "display_name": "venv",
   "language": "python",
   "name": "python3"
  },
  "language_info": {
   "name": "python",
   "version": "3.12.3"
  }
 },
 "nbformat": 4,
 "nbformat_minor": 0
}
